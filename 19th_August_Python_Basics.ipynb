{
 "cells": [
  {
   "cell_type": "markdown",
   "id": "0d143c47",
   "metadata": {},
   "source": [
    "## Python Basic Variable"
   ]
  },
  {
   "cell_type": "code",
   "execution_count": 1,
   "id": "cd493f05",
   "metadata": {},
   "outputs": [],
   "source": [
    "\"\"\"Answer 1\"\"\"\n",
    "x = 4\n",
    "y = 6\n",
    "\n",
    "x = x + y\n",
    "y = x - y \n",
    "x = x - y"
   ]
  },
  {
   "cell_type": "code",
   "execution_count": 2,
   "id": "d8a8773b",
   "metadata": {},
   "outputs": [
    {
     "data": {
      "text/plain": [
       "(6, 4)"
      ]
     },
     "execution_count": 2,
     "metadata": {},
     "output_type": "execute_result"
    }
   ],
   "source": [
    "x, y"
   ]
  },
  {
   "cell_type": "code",
   "execution_count": 3,
   "id": "306c21e2",
   "metadata": {},
   "outputs": [],
   "source": [
    "\"\"\"Answer 2\"\"\"\n",
    "def area_of_rec(w, l):\n",
    "    return f\"The are of the rectangle is {w*l}\""
   ]
  },
  {
   "cell_type": "code",
   "execution_count": 4,
   "id": "3c52ecf7",
   "metadata": {},
   "outputs": [
    {
     "data": {
      "text/plain": [
       "'The are of the rectangle is 35'"
      ]
     },
     "execution_count": 4,
     "metadata": {},
     "output_type": "execute_result"
    }
   ],
   "source": [
    "area_of_rec(5,7)"
   ]
  },
  {
   "cell_type": "code",
   "execution_count": 5,
   "id": "8030ba2e",
   "metadata": {},
   "outputs": [],
   "source": [
    "\"\"\"Answer 3\"\"\"\n",
    "def cel_to_fah(temp):\n",
    "    return (temp*1.8) + 32"
   ]
  },
  {
   "cell_type": "code",
   "execution_count": 6,
   "id": "9b621c88",
   "metadata": {},
   "outputs": [
    {
     "data": {
      "text/plain": [
       "111.2"
      ]
     },
     "execution_count": 6,
     "metadata": {},
     "output_type": "execute_result"
    }
   ],
   "source": [
    "cel_to_fah(44)"
   ]
  },
  {
   "cell_type": "markdown",
   "id": "0a862119",
   "metadata": {},
   "source": [
    "## String Based Questions"
   ]
  },
  {
   "cell_type": "code",
   "execution_count": 7,
   "id": "1b98b383",
   "metadata": {},
   "outputs": [],
   "source": [
    "\"\"\"Answer 1\"\"\"\n",
    "def length_of_str(word):\n",
    "    position = 0 \n",
    "    for letter in word:\n",
    "        position += 1 \n",
    "        \n",
    "    return position"
   ]
  },
  {
   "cell_type": "code",
   "execution_count": 8,
   "id": "9ed9c8f2",
   "metadata": {},
   "outputs": [
    {
     "data": {
      "text/plain": [
       "0"
      ]
     },
     "execution_count": 8,
     "metadata": {},
     "output_type": "execute_result"
    }
   ],
   "source": [
    "length_of_str('')"
   ]
  },
  {
   "cell_type": "code",
   "execution_count": 9,
   "id": "f149295a",
   "metadata": {},
   "outputs": [],
   "source": [
    "\"\"\"Answer 2\"\"\"\n",
    "def vowel_counter(word):\n",
    "    position = 0 \n",
    "    for letter in word:\n",
    "        if letter in ['a','e','i','o','u']:\n",
    "            position += 1\n",
    "        \n",
    "        \n",
    "    return position"
   ]
  },
  {
   "cell_type": "code",
   "execution_count": 10,
   "id": "0b02b7ea",
   "metadata": {},
   "outputs": [
    {
     "data": {
      "text/plain": [
       "4"
      ]
     },
     "execution_count": 10,
     "metadata": {},
     "output_type": "execute_result"
    }
   ],
   "source": [
    "vowel_counter('anaconda')"
   ]
  },
  {
   "cell_type": "code",
   "execution_count": 11,
   "id": "8be45339",
   "metadata": {},
   "outputs": [],
   "source": [
    "\"\"\"Answer 3\"\"\"\n",
    "def reverse_string(word):\n",
    "    return word[::-1]"
   ]
  },
  {
   "cell_type": "code",
   "execution_count": 12,
   "id": "33359fcc",
   "metadata": {},
   "outputs": [
    {
     "data": {
      "text/plain": [
       "'drow'"
      ]
     },
     "execution_count": 12,
     "metadata": {},
     "output_type": "execute_result"
    }
   ],
   "source": [
    "reverse_string('word')"
   ]
  }
 ],
 "metadata": {
  "kernelspec": {
   "display_name": "Python 3 (ipykernel)",
   "language": "python",
   "name": "python3"
  },
  "language_info": {
   "codemirror_mode": {
    "name": "ipython",
    "version": 3
   },
   "file_extension": ".py",
   "mimetype": "text/x-python",
   "name": "python",
   "nbconvert_exporter": "python",
   "pygments_lexer": "ipython3",
   "version": "3.9.7"
  }
 },
 "nbformat": 4,
 "nbformat_minor": 5
}
