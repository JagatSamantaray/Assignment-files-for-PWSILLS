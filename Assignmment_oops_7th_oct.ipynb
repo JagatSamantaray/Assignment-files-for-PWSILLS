{
  "nbformat": 4,
  "nbformat_minor": 0,
  "metadata": {
    "colab": {
      "provenance": [],
      "authorship_tag": "ABX9TyP159ionfiflXp6fKRnYnPs",
      "include_colab_link": true
    },
    "kernelspec": {
      "name": "python3",
      "display_name": "Python 3"
    },
    "language_info": {
      "name": "python"
    }
  },
  "cells": [
    {
      "cell_type": "markdown",
      "metadata": {
        "id": "view-in-github",
        "colab_type": "text"
      },
      "source": [
        "<a href=\"https://colab.research.google.com/github/JagatSamantaray/Assignment-files-for-PWSILLS/blob/main/Assignmment_oops_7th_oct.ipynb\" target=\"_parent\"><img src=\"https://colab.research.google.com/assets/colab-badge.svg\" alt=\"Open In Colab\"/></a>"
      ]
    },
    {
      "cell_type": "markdown",
      "source": [
        "### Problem 1"
      ],
      "metadata": {
        "id": "iOxiqD-Hkoa-"
      }
    },
    {
      "cell_type": "code",
      "execution_count": null,
      "metadata": {
        "id": "ekY1j_sDi_ty"
      },
      "outputs": [],
      "source": [
        "class BankAccount:\n",
        "    def __init__(self, account_number, holder_name, balance=0):\n",
        "        self.account_number = account_number\n",
        "        self.holder_name = holder_name\n",
        "        self.balance = balance\n",
        "\n",
        "    def deposit(self, amount):\n",
        "        self.balance += amount\n",
        "        return f\"Deposited {amount}. New balance is {self.balance}.\"\n",
        "\n",
        "    def withdraw(self, amount):\n",
        "        if amount <= self.balance:\n",
        "            self.balance -= amount\n",
        "            return f\"Withdrew {amount}. New balance is {self.balance}.\"\n",
        "        else:\n",
        "            return \"Insufficient funds.\"\n"
      ]
    },
    {
      "cell_type": "markdown",
      "source": [
        "### Problem 2"
      ],
      "metadata": {
        "id": "yz8IzWQTkirj"
      }
    },
    {
      "cell_type": "code",
      "source": [
        "class Employee:\n",
        "    def __init__(self, employee_id, name, salary):\n",
        "        self.employee_id = employee_id\n",
        "        self.name = name\n",
        "        self.salary = salary\n",
        "\n",
        "    def calculate_bonus(self, bonus_percentage):\n",
        "        return self.salary * (bonus_percentage / 100)\n",
        "\n",
        "    def display_details(self):\n",
        "        return f\"ID: {self.employee_id}, Name: {self.name}, Salary: {self.salary}\""
      ],
      "metadata": {
        "id": "8ghVlz2Tkkjw"
      },
      "execution_count": null,
      "outputs": []
    },
    {
      "cell_type": "markdown",
      "source": [
        "### Problem 3"
      ],
      "metadata": {
        "id": "RsSvzrqjkaFc"
      }
    },
    {
      "cell_type": "code",
      "source": [
        "class VehicleRental:\n",
        "    def __init__(self):\n",
        "        self.available_vehicles = []\n",
        "\n",
        "    def add_vehicle(self, vehicle):\n",
        "        self.available_vehicles.append(vehicle)\n",
        "\n",
        "    def rent_vehicle(self, vehicle):\n",
        "        if vehicle in self.available_vehicles:\n",
        "            self.available_vehicles.remove(vehicle)\n",
        "            return f\"{vehicle} rented successfully.\"\n",
        "        else:\n",
        "            return \"Vehicle not available.\"\n",
        "\n",
        "    def return_vehicle(self, vehicle):\n",
        "        self.available_vehicles.append(vehicle)\n",
        "        return f\"{vehicle} returned successfully.\"\n",
        "\n",
        "    def display_available_vehicles(self):\n",
        "        return self.available_vehicles"
      ],
      "metadata": {
        "id": "cRkKg6cbkfFr"
      },
      "execution_count": null,
      "outputs": []
    },
    {
      "cell_type": "markdown",
      "source": [
        "### Problem 4"
      ],
      "metadata": {
        "id": "HA33ViEjkOyj"
      }
    },
    {
      "cell_type": "code",
      "source": [
        "class Book:\n",
        "    def __init__(self, title, author):\n",
        "        self.title = title\n",
        "        self.author = author\n",
        "class Library:\n",
        "    def __init__(self):\n",
        "        self.books = []\n",
        "\n",
        "    def add_book(self, book):\n",
        "        self.books.append(book)\n",
        "\n",
        "    def borrow_book(self, title):\n",
        "        for book in self.books:\n",
        "            if book.title == title:\n",
        "                self.books.remove(book)\n",
        "                return f\"You borrowed {title}.\"\n",
        "        return \"Book not available.\"\n",
        "\n",
        "    def display_available_books(self):\n",
        "        return [book.title for book in self.books]"
      ],
      "metadata": {
        "id": "DwoWnIJfkRHS"
      },
      "execution_count": null,
      "outputs": []
    },
    {
      "cell_type": "markdown",
      "source": [
        "### Problem 5"
      ],
      "metadata": {
        "id": "hcakMC5Oj3-q"
      }
    },
    {
      "cell_type": "code",
      "source": [
        "class Product:\n",
        "    def __init__(self, name, quantity):\n",
        "        self.name = name\n",
        "        self.quantity = quantity\n",
        "\n",
        "class Inventory:\n",
        "    def __init__(self):\n",
        "        self.products = []\n",
        "\n",
        "    def add_product(self, product):\n",
        "        self.products.append(product)\n",
        "\n",
        "    def update_quantity(self, product_name, quantity):\n",
        "        for product in self.products:\n",
        "            if product.name == product_name:\n",
        "                product.quantity = quantity\n",
        "                return f\"Updated {product_name} quantity to {quantity}.\"\n",
        "        return \"Product not found.\"\n",
        "\n",
        "    def display_products(self):\n",
        "        return [(product.name, product.quantity) for product in self.products]"
      ],
      "metadata": {
        "id": "xCE2Aqfaj5r4"
      },
      "execution_count": null,
      "outputs": []
    },
    {
      "cell_type": "markdown",
      "source": [
        "### Problem 6"
      ],
      "metadata": {
        "id": "jBDjkblbjw5s"
      }
    },
    {
      "cell_type": "code",
      "source": [
        "class Shape:\n",
        "    def __init__(self, length, width):\n",
        "        self.length = length\n",
        "        self.width = width\n",
        "\n",
        "    def area(self):\n",
        "        return self.length * self.width\n",
        "\n",
        "    def perimeter(self):\n",
        "        return 2 * (self.length + self.width)"
      ],
      "metadata": {
        "id": "WqzXqufTj0Jn"
      },
      "execution_count": null,
      "outputs": []
    },
    {
      "cell_type": "markdown",
      "source": [
        "### Problem 7"
      ],
      "metadata": {
        "id": "R-jJmT2rjrcl"
      }
    },
    {
      "cell_type": "code",
      "source": [
        "class Student:\n",
        "    def __init__(self, student_id, name, grades):\n",
        "        self.student_id = student_id\n",
        "        self.name = name\n",
        "        self.grades = grades\n",
        "\n",
        "    def average_grade(self):\n",
        "        return sum(self.grades) / len(self.grades)\n",
        "\n",
        "    def display_details(self):\n",
        "        return f\"ID: {self.student_id}, Name: {self.name}, Average Grade: {self.average_grade()}\""
      ],
      "metadata": {
        "id": "G1DpXskLjufT"
      },
      "execution_count": null,
      "outputs": []
    },
    {
      "cell_type": "markdown",
      "source": [
        "### Problem 8"
      ],
      "metadata": {
        "id": "B-5JovGqjWI-"
      }
    },
    {
      "cell_type": "code",
      "source": [
        "class Email:\n",
        "    def __init__(self, sender, recipient, subject):\n",
        "        self.sender = sender\n",
        "        self.recipient = recipient\n",
        "        self.subject = subject\n",
        "\n",
        "    def send_email(self):\n",
        "        return f\"Email sent to {self.recipient} with subject: {self.subject}\"\n",
        "\n",
        "    def display_email(self):\n",
        "        return f\"From: {self.sender}, To: {self.recipient}, Subject: {self.subject}\""
      ],
      "metadata": {
        "id": "tvicefyJjZYg"
      },
      "execution_count": null,
      "outputs": []
    },
    {
      "cell_type": "markdown",
      "source": [
        "### Problem 9"
      ],
      "metadata": {
        "id": "DJxgrdJIjPUg"
      }
    },
    {
      "cell_type": "code",
      "source": [
        "class SocialMediaProfile:\n",
        "    def __init__(self, username):\n",
        "        self.username = username\n",
        "        self.posts = []\n",
        "\n",
        "    def add_post(self, post):\n",
        "        self.posts.append(post)\n",
        "\n",
        "    def display_posts(self):\n",
        "        return self.posts\n",
        "\n",
        "    def search_posts(self, keyword):\n",
        "        return [post for post in self.posts if keyword in post]"
      ],
      "metadata": {
        "id": "6hi7vOR_jTbq"
      },
      "execution_count": null,
      "outputs": []
    },
    {
      "cell_type": "markdown",
      "source": [
        "### Problem 10"
      ],
      "metadata": {
        "id": "burIUtk5jIbF"
      }
    },
    {
      "cell_type": "code",
      "source": [
        "\n",
        "class ToDoList:\n",
        "    def __init__(self):\n",
        "        self.tasks = {}\n",
        "\n",
        "    def add_task(self, task, due_date):\n",
        "        self.tasks[task] = {'due_date': due_date, 'completed': False}\n",
        "\n",
        "    def mark_completed(self, task):\n",
        "        if task in self.tasks:\n",
        "            self.tasks[task]['completed'] = True\n",
        "            return f\"Task '{task}' marked as completed.\"\n",
        "        return \"Task not found.\"\n",
        "\n",
        "    def display_pending_tasks(self):\n",
        "        return [task for task, details in self.tasks.items() if not details['completed']]"
      ],
      "metadata": {
        "id": "LuUYVHwxjFBk"
      },
      "execution_count": null,
      "outputs": []
    }
  ]
}